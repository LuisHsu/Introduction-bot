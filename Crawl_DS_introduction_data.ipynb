{
 "cells": [
  {
   "cell_type": "code",
   "execution_count": 2,
   "id": "romantic-blade",
   "metadata": {},
   "outputs": [],
   "source": [
    "import requests\n",
    "import pandas as pd\n",
    "import json"
   ]
  },
  {
   "cell_type": "code",
   "execution_count": 46,
   "id": "later-puzzle",
   "metadata": {},
   "outputs": [],
   "source": [
    "url = 'https://discord.com/api/v9/channels/840071496743649280/messages?limit=100'\n",
    "headers = {\n",
    "    \"authorization\" : \"NzQxNTI3NjYzMTQ3MjIwOTky.YNBntw.54bDfCInN09ihUK3tH_wZM7SuOQ\"\n",
    "}\n",
    "r = requests.get(url= url, headers = headers)"
   ]
  },
  {
   "cell_type": "code",
   "execution_count": 52,
   "id": "united-compilation",
   "metadata": {},
   "outputs": [],
   "source": [
    "# r.text\n",
    "results = json.loads(r.text)\n",
    "user_datas = []"
   ]
  },
  {
   "cell_type": "code",
   "execution_count": 53,
   "id": "promotional-chrome",
   "metadata": {},
   "outputs": [],
   "source": [
    "user_datas.extend(results)"
   ]
  },
  {
   "cell_type": "code",
   "execution_count": 57,
   "id": "raising-uganda",
   "metadata": {},
   "outputs": [
    {
     "name": "stdout",
     "output_type": "stream",
     "text": [
      "0th iteration\n",
      "1th iteration\n",
      "2th iteration\n",
      "3th iteration\n",
      "4th iteration\n",
      "5th iteration\n",
      "6th iteration\n",
      "7th iteration\n",
      "8th iteration\n",
      "9th iteration\n",
      "10th iteration\n",
      "11th iteration\n",
      "12th iteration\n",
      "13th iteration\n"
     ]
    }
   ],
   "source": [
    "last_id = results[-1]['id']\n",
    "i = 0\n",
    "while last_id != \"840074017969143819\":\n",
    "    print('{}th iteration'.format(i))\n",
    "    next_url = \"https://discord.com/api/v9/channels/840071496743649280/messages?before={}&limit=100\".format(last_id)\n",
    "    r = requests.get(url= next_url, headers = headers)\n",
    "    results = json.loads(r.text)\n",
    "    user_datas.extend(results)\n",
    "    last_id = results[-1]['id']\n",
    "    i+=1\n",
    "   \n"
   ]
  },
  {
   "cell_type": "code",
   "execution_count": 59,
   "id": "lightweight-visitor",
   "metadata": {},
   "outputs": [
    {
     "data": {
      "text/plain": [
       "{'id': '840074017969143819',\n",
       " 'type': 0,\n",
       " 'content': '1. Name: Ian\\n2. Institute: University of Washington\\n3. Program Degree: MSTI (Dual)\\n4. Year of Graduation (Expected): 2023\\n5. Location: Taiwan\\n6. Social Media:\\n    [LinkedIn] https://www.linkedin.com/in/zaeous/',\n",
       " 'channel_id': '840071496743649280',\n",
       " 'author': {'id': '237223755728814090',\n",
       "  'username': 'xcz',\n",
       "  'avatar': '98a27a55985bc52de8c7265d0a1da075',\n",
       "  'discriminator': '5566',\n",
       "  'public_flags': 256},\n",
       " 'attachments': [],\n",
       " 'embeds': [],\n",
       " 'mentions': [],\n",
       " 'mention_roles': [],\n",
       " 'pinned': False,\n",
       " 'mention_everyone': False,\n",
       " 'tts': False,\n",
       " 'timestamp': '2021-05-07T03:54:13.704000+00:00',\n",
       " 'edited_timestamp': '2021-05-25T22:45:34.633000+00:00',\n",
       " 'flags': 0,\n",
       " 'components': []}"
      ]
     },
     "execution_count": 59,
     "metadata": {},
     "output_type": "execute_result"
    }
   ],
   "source": [
    "len(user_datas)\n",
    "user_datas[-1]"
   ]
  },
  {
   "cell_type": "code",
   "execution_count": 61,
   "id": "north-keeping",
   "metadata": {},
   "outputs": [],
   "source": [
    "import pickle\n",
    "with open(\"DS_introduction_data.pkl\", 'wb') as f:\n",
    "    pickle.dump(user_datas, f)"
   ]
  },
  {
   "cell_type": "code",
   "execution_count": null,
   "id": "false-physiology",
   "metadata": {},
   "outputs": [],
   "source": [
    "# Last message\n",
    "id: \"840074017969143819\"\n",
    "\n",
    "author: {id: \"237223755728814090\", username: \"xcz\", avatar: \"98a27a55985bc52de8c7265d0a1da075\",…}\n",
    "avatar: \"98a27a55985bc52de8c7265d0a1da075\"\n",
    "discriminator: \"5566\"\n",
    "id: \"237223755728814090\"\n",
    "public_flags: 256\n",
    "username: \"xcz\"\n",
    "channel_id: \"840071496743649280\"\n",
    "components: []\n",
    "content: \"1. Name: Ian\\n2. Institute: University of Washington\\n3. Program Degree: MSTI (Dual)\\n4. Year of Graduation (Expected): 2023\\n5. Location: Taiwan\\n6. Social Media:\\n    [LinkedIn] https://www.linkedin.com/in/zaeous/\"\n",
    "edited_timestamp: \"2021-05-25T22:45:34.633000+00:00\"\n",
    "embeds: []\n",
    "flags: 0\n",
    "mention_everyone: false\n",
    "mention_roles: []\n",
    "mentions: []\n",
    "pinned: false\n",
    "timestamp: \"2021-05-07T03:54:13.704000+00:00\"\n",
    "tts: false\n",
    "type: 0"
   ]
  },
  {
   "cell_type": "code",
   "execution_count": 63,
   "id": "relative-portal",
   "metadata": {},
   "outputs": [],
   "source": [
    "with open('DS_introduction_data.pkl', 'rb') as f:\n",
    "    reload_date = pickle.load(f)    \n"
   ]
  },
  {
   "cell_type": "code",
   "execution_count": 65,
   "id": "velvet-boundary",
   "metadata": {},
   "outputs": [
    {
     "data": {
      "text/plain": [
       "1491"
      ]
     },
     "execution_count": 65,
     "metadata": {},
     "output_type": "execute_result"
    }
   ],
   "source": [
    "len(reload_date)"
   ]
  },
  {
   "cell_type": "code",
   "execution_count": null,
   "id": "proud-synthetic",
   "metadata": {},
   "outputs": [],
   "source": []
  }
 ],
 "metadata": {
  "kernelspec": {
   "display_name": "Python 3",
   "language": "python",
   "name": "python3"
  },
  "language_info": {
   "codemirror_mode": {
    "name": "ipython",
    "version": 3
   },
   "file_extension": ".py",
   "mimetype": "text/x-python",
   "name": "python",
   "nbconvert_exporter": "python",
   "pygments_lexer": "ipython3",
   "version": "3.8.5"
  },
  "toc": {
   "base_numbering": 1,
   "nav_menu": {},
   "number_sections": true,
   "sideBar": true,
   "skip_h1_title": false,
   "title_cell": "Table of Contents",
   "title_sidebar": "Contents",
   "toc_cell": false,
   "toc_position": {},
   "toc_section_display": true,
   "toc_window_display": false
  },
  "varInspector": {
   "cols": {
    "lenName": 16,
    "lenType": 16,
    "lenVar": 40
   },
   "kernels_config": {
    "python": {
     "delete_cmd_postfix": "",
     "delete_cmd_prefix": "del ",
     "library": "var_list.py",
     "varRefreshCmd": "print(var_dic_list())"
    },
    "r": {
     "delete_cmd_postfix": ") ",
     "delete_cmd_prefix": "rm(",
     "library": "var_list.r",
     "varRefreshCmd": "cat(var_dic_list()) "
    }
   },
   "types_to_exclude": [
    "module",
    "function",
    "builtin_function_or_method",
    "instance",
    "_Feature"
   ],
   "window_display": false
  }
 },
 "nbformat": 4,
 "nbformat_minor": 5
}
